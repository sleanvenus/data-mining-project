{
 "cells": [
  {
   "cell_type": "code",
   "execution_count": null,
   "metadata": {},
   "outputs": [],
   "source": [
    "import pandas as pd\n",
    "import numpy as np\n",
    "\n",
    "import torch\n",
    "from torch import nn\n",
    "\n",
    "from sklearn.model_selection import train_test_split\n",
    "from sklearn.metrics import classification_report, confusion_matrix, accuracy_score\n",
    "\n",
    "from preprocess import one_hot, one_hot_cut, one_hot_qcut, margin_prob, margin_rank"
   ]
  },
  {
   "cell_type": "code",
   "execution_count": null,
   "metadata": {},
   "outputs": [],
   "source": [
    "device = torch.device(\"cuda\" if torch.cuda.is_available() else \"cpu\")\n",
    "\n",
    "df = pd.read_csv('train.csv')\n",
    "x1, y1, _ = margin_prob(df)\n",
    "x_train, x_test, y_train, y_test = train_test_split(x1, y1, test_size=0.25, random_state=2)\n",
    "\n",
    "input_size = x1.shape[1]\n",
    "hidden_sizes = [256, 64]\n",
    "output_size = 2\n",
    "# Build a feed-forward network\n",
    "model = nn.Sequential(nn.Linear(input_size, hidden_sizes[0]),\n",
    "                      nn.ReLU(),\n",
    "                      nn.Linear(hidden_sizes[0], hidden_sizes[1]),\n",
    "                      nn.ReLU(),\n",
    "                      nn.Linear(hidden_sizes[1], output_size),\n",
    "                      nn.Softmax(dim=1)).cuda()\n",
    "\n",
    "x_train_tensor = torch.tensor(x_train.values.astype(np.float32)).to(device)\n",
    "y_train_tensor = torch.tensor(y_train.to_numpy().T).to(device)\n",
    "\n",
    "x_test_tensor = torch.tensor(x_test.values.astype(np.float32)).to(device)\n",
    "y_test_tensor = torch.tensor(y_test.to_numpy().T).to(device)\n",
    "\n",
    "learning_rate = 1e-4\n",
    "loss_fn = torch.nn.CrossEntropyLoss()\n",
    "optimizer = torch.optim.Adam(model.parameters(), lr=learning_rate)\n",
    "for t in range(6000):\n",
    "    y_pred = model(x_train_tensor)\n",
    "    loss = loss_fn(y_pred, y_train_tensor)\n",
    "    if t % 600 == 0:\n",
    "        print(t, loss.item())\n",
    "        y_val = model(x_test_tensor)\n",
    "        y_val = np.argmax(y_val.detach().cpu().numpy(), axis=1)\n",
    "        \n",
    "        acc = accuracy_score(y_test_tensor.cpu().numpy(), y_val)\n",
    "        f1=f1_score(y_test_tensor.cpu().numpy(), y_val, average='weighted')\n",
    "        print(\"acc: %.2f%%\" % (acc * 100.0))\n",
    "        print(\"f1: %.2f%%\" % (f1 * 100.0))\n",
    "\n",
    "    optimizer.zero_grad()\n",
    "    loss.backward()\n",
    "    optimizer.step()"
   ]
  }
 ],
 "metadata": {
  "kernelspec": {
   "display_name": "Python 3",
   "language": "python",
   "name": "python3"
  },
  "language_info": {
   "codemirror_mode": {
    "name": "ipython",
    "version": 3
   },
   "file_extension": ".py",
   "mimetype": "text/x-python",
   "name": "python",
   "nbconvert_exporter": "python",
   "pygments_lexer": "ipython3",
   "version": "3.7.6"
  }
 },
 "nbformat": 4,
 "nbformat_minor": 4
}
